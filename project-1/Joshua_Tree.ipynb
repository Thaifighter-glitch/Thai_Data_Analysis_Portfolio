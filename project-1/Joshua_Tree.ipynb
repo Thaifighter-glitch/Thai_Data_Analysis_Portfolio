{
 "cells": [
  {
   "cell_type": "code",
   "execution_count": 4,
   "id": "451be50e-d324-481f-84c3-bd7c3ab5c6f6",
   "metadata": {},
   "outputs": [
    {
     "name": "stdout",
     "output_type": "stream",
     "text": [
      "Collecting matplotlib\n",
      "  Downloading matplotlib-3.9.2-cp312-cp312-win_amd64.whl.metadata (11 kB)\n",
      "Collecting contourpy>=1.0.1 (from matplotlib)\n",
      "  Downloading contourpy-1.3.0-cp312-cp312-win_amd64.whl.metadata (5.4 kB)\n",
      "Collecting cycler>=0.10 (from matplotlib)\n",
      "  Downloading cycler-0.12.1-py3-none-any.whl.metadata (3.8 kB)\n",
      "Collecting fonttools>=4.22.0 (from matplotlib)\n",
      "  Downloading fonttools-4.54.1-cp312-cp312-win_amd64.whl.metadata (167 kB)\n",
      "Collecting kiwisolver>=1.3.1 (from matplotlib)\n",
      "  Downloading kiwisolver-1.4.7-cp312-cp312-win_amd64.whl.metadata (6.4 kB)\n",
      "Requirement already satisfied: numpy>=1.23 in c:\\users\\chris\\appdata\\local\\programs\\python\\python312\\lib\\site-packages (from matplotlib) (2.1.3)\n",
      "Requirement already satisfied: packaging>=20.0 in c:\\users\\chris\\appdata\\local\\programs\\python\\python312\\lib\\site-packages (from matplotlib) (24.1)\n",
      "Collecting pillow>=8 (from matplotlib)\n",
      "  Downloading pillow-11.0.0-cp312-cp312-win_amd64.whl.metadata (9.3 kB)\n",
      "Collecting pyparsing>=2.3.1 (from matplotlib)\n",
      "  Downloading pyparsing-3.2.0-py3-none-any.whl.metadata (5.0 kB)\n",
      "Requirement already satisfied: python-dateutil>=2.7 in c:\\users\\chris\\appdata\\local\\programs\\python\\python312\\lib\\site-packages (from matplotlib) (2.9.0.post0)\n",
      "Requirement already satisfied: six>=1.5 in c:\\users\\chris\\appdata\\local\\programs\\python\\python312\\lib\\site-packages (from python-dateutil>=2.7->matplotlib) (1.16.0)\n",
      "Downloading matplotlib-3.9.2-cp312-cp312-win_amd64.whl (7.8 MB)\n",
      "   ---------------------------------------- 0.0/7.8 MB ? eta -:--:--\n",
      "   -------------------------------- ------- 6.3/7.8 MB 32.2 MB/s eta 0:00:01\n",
      "   ---------------------------------------- 7.8/7.8 MB 32.4 MB/s eta 0:00:00\n",
      "Downloading contourpy-1.3.0-cp312-cp312-win_amd64.whl (218 kB)\n",
      "Downloading cycler-0.12.1-py3-none-any.whl (8.3 kB)\n",
      "Downloading fonttools-4.54.1-cp312-cp312-win_amd64.whl (2.2 MB)\n",
      "   ---------------------------------------- 0.0/2.2 MB ? eta -:--:--\n",
      "   ---------------------------------------- 2.2/2.2 MB 41.2 MB/s eta 0:00:00\n",
      "Downloading kiwisolver-1.4.7-cp312-cp312-win_amd64.whl (55 kB)\n",
      "Downloading pillow-11.0.0-cp312-cp312-win_amd64.whl (2.6 MB)\n",
      "   ---------------------------------------- 0.0/2.6 MB ? eta -:--:--\n",
      "   ---------------------------------------- 2.6/2.6 MB 37.2 MB/s eta 0:00:00\n",
      "Downloading pyparsing-3.2.0-py3-none-any.whl (106 kB)\n",
      "Installing collected packages: pyparsing, pillow, kiwisolver, fonttools, cycler, contourpy, matplotlib\n",
      "Successfully installed contourpy-1.3.0 cycler-0.12.1 fonttools-4.54.1 kiwisolver-1.4.7 matplotlib-3.9.2 pillow-11.0.0 pyparsing-3.2.0\n"
     ]
    },
    {
     "name": "stderr",
     "output_type": "stream",
     "text": [
      "\n",
      "[notice] A new release of pip is available: 24.2 -> 24.3.1\n",
      "[notice] To update, run: C:\\Users\\Chris\\AppData\\Local\\Programs\\Python\\Python312\\python.exe -m pip install --upgrade pip\n"
     ]
    },
    {
     "name": "stdout",
     "output_type": "stream",
     "text": [
      "Requirement already satisfied: numpy in c:\\users\\chris\\appdata\\local\\programs\\python\\python312\\lib\\site-packages (2.1.3)\n"
     ]
    },
    {
     "name": "stderr",
     "output_type": "stream",
     "text": [
      "\n",
      "[notice] A new release of pip is available: 24.2 -> 24.3.1\n",
      "[notice] To update, run: C:\\Users\\Chris\\AppData\\Local\\Programs\\Python\\Python312\\python.exe -m pip install --upgrade pip\n"
     ]
    },
    {
     "name": "stdout",
     "output_type": "stream",
     "text": [
      "Collecting seaborn\n",
      "  Downloading seaborn-0.13.2-py3-none-any.whl.metadata (5.4 kB)\n",
      "Requirement already satisfied: numpy!=1.24.0,>=1.20 in c:\\users\\chris\\appdata\\local\\programs\\python\\python312\\lib\\site-packages (from seaborn) (2.1.3)\n",
      "Requirement already satisfied: pandas>=1.2 in c:\\users\\chris\\appdata\\local\\programs\\python\\python312\\lib\\site-packages (from seaborn) (2.2.3)\n",
      "Requirement already satisfied: matplotlib!=3.6.1,>=3.4 in c:\\users\\chris\\appdata\\local\\programs\\python\\python312\\lib\\site-packages (from seaborn) (3.9.2)\n",
      "Requirement already satisfied: contourpy>=1.0.1 in c:\\users\\chris\\appdata\\local\\programs\\python\\python312\\lib\\site-packages (from matplotlib!=3.6.1,>=3.4->seaborn) (1.3.0)\n",
      "Requirement already satisfied: cycler>=0.10 in c:\\users\\chris\\appdata\\local\\programs\\python\\python312\\lib\\site-packages (from matplotlib!=3.6.1,>=3.4->seaborn) (0.12.1)\n",
      "Requirement already satisfied: fonttools>=4.22.0 in c:\\users\\chris\\appdata\\local\\programs\\python\\python312\\lib\\site-packages (from matplotlib!=3.6.1,>=3.4->seaborn) (4.54.1)\n",
      "Requirement already satisfied: kiwisolver>=1.3.1 in c:\\users\\chris\\appdata\\local\\programs\\python\\python312\\lib\\site-packages (from matplotlib!=3.6.1,>=3.4->seaborn) (1.4.7)\n",
      "Requirement already satisfied: packaging>=20.0 in c:\\users\\chris\\appdata\\local\\programs\\python\\python312\\lib\\site-packages (from matplotlib!=3.6.1,>=3.4->seaborn) (24.1)\n",
      "Requirement already satisfied: pillow>=8 in c:\\users\\chris\\appdata\\local\\programs\\python\\python312\\lib\\site-packages (from matplotlib!=3.6.1,>=3.4->seaborn) (11.0.0)\n",
      "Requirement already satisfied: pyparsing>=2.3.1 in c:\\users\\chris\\appdata\\local\\programs\\python\\python312\\lib\\site-packages (from matplotlib!=3.6.1,>=3.4->seaborn) (3.2.0)\n",
      "Requirement already satisfied: python-dateutil>=2.7 in c:\\users\\chris\\appdata\\local\\programs\\python\\python312\\lib\\site-packages (from matplotlib!=3.6.1,>=3.4->seaborn) (2.9.0.post0)\n",
      "Requirement already satisfied: pytz>=2020.1 in c:\\users\\chris\\appdata\\local\\programs\\python\\python312\\lib\\site-packages (from pandas>=1.2->seaborn) (2024.2)\n",
      "Requirement already satisfied: tzdata>=2022.7 in c:\\users\\chris\\appdata\\local\\programs\\python\\python312\\lib\\site-packages (from pandas>=1.2->seaborn) (2024.2)\n",
      "Requirement already satisfied: six>=1.5 in c:\\users\\chris\\appdata\\local\\programs\\python\\python312\\lib\\site-packages (from python-dateutil>=2.7->matplotlib!=3.6.1,>=3.4->seaborn) (1.16.0)\n",
      "Downloading seaborn-0.13.2-py3-none-any.whl (294 kB)\n",
      "Installing collected packages: seaborn\n",
      "Successfully installed seaborn-0.13.2\n"
     ]
    },
    {
     "name": "stderr",
     "output_type": "stream",
     "text": [
      "\n",
      "[notice] A new release of pip is available: 24.2 -> 24.3.1\n",
      "[notice] To update, run: C:\\Users\\Chris\\AppData\\Local\\Programs\\Python\\Python312\\python.exe -m pip install --upgrade pip\n"
     ]
    },
    {
     "name": "stdout",
     "output_type": "stream",
     "text": [
      "Collecting plotly\n",
      "  Downloading plotly-5.24.1-py3-none-any.whl.metadata (7.3 kB)\n",
      "Collecting tenacity>=6.2.0 (from plotly)\n",
      "  Downloading tenacity-9.0.0-py3-none-any.whl.metadata (1.2 kB)\n",
      "Requirement already satisfied: packaging in c:\\users\\chris\\appdata\\local\\programs\\python\\python312\\lib\\site-packages (from plotly) (24.1)\n",
      "Downloading plotly-5.24.1-py3-none-any.whl (19.1 MB)\n",
      "   ---------------------------------------- 0.0/19.1 MB ? eta -:--:--\n",
      "   ------- -------------------------------- 3.7/19.1 MB 19.8 MB/s eta 0:00:01\n",
      "   ------------------------ --------------- 11.5/19.1 MB 31.4 MB/s eta 0:00:01\n",
      "   ------------------------------------- -- 18.1/19.1 MB 30.8 MB/s eta 0:00:01\n",
      "   ---------------------------------------- 19.1/19.1 MB 30.1 MB/s eta 0:00:00\n",
      "Downloading tenacity-9.0.0-py3-none-any.whl (28 kB)\n",
      "Installing collected packages: tenacity, plotly\n",
      "Successfully installed plotly-5.24.1 tenacity-9.0.0\n"
     ]
    },
    {
     "name": "stderr",
     "output_type": "stream",
     "text": [
      "\n",
      "[notice] A new release of pip is available: 24.2 -> 24.3.1\n",
      "[notice] To update, run: C:\\Users\\Chris\\AppData\\Local\\Programs\\Python\\Python312\\python.exe -m pip install --upgrade pip\n"
     ]
    }
   ],
   "source": [
    "!pip install pandas\n",
    "!pip install matplotlib\n",
    "!pip install numpy\n",
    "!pip install seaborn\n",
    "!pip install plotly"
   ]
  },
  {
   "cell_type": "code",
   "execution_count": 1,
   "id": "c6f8f7a1-0188-4a63-b631-ce297bd0a5ff",
   "metadata": {},
   "outputs": [],
   "source": [
    "import pandas as pd\n",
    "import matplotlib.pyplot as plt\n",
    "import numpy as np\n",
    "import seaborn as sns\n",
    "import plotly.express as px\n",
    "from plotly.subplots import make_subplots\n",
    "import plotly.graph_objects as go\n",
    "import re\n"
   ]
  },
  {
   "cell_type": "code",
   "execution_count": 2,
   "id": "b02d3026-ba37-409b-9b77-6e289a4f4632",
   "metadata": {},
   "outputs": [
    {
     "name": "stdout",
     "output_type": "stream",
     "text": [
      "     Unnamed: 0  Avg Stars                   Route Route Type  Rating  \\\n",
      "0             0        3.9       White Rastafarian    Boulder    V2 R   \n",
      "1             1        3.9               Slashface    Boulder    V3 R   \n",
      "2             2        3.9                   JBMFP    Boulder      V5   \n",
      "3             3        3.9                  Pigpen    Boulder      V4   \n",
      "4             4        3.7                Gunsmoke    Boulder      V3   \n",
      "..          ...        ...                     ...        ...     ...   \n",
      "908         951        1.0              Knob Arete    Boulder  V-easy   \n",
      "909         952        1.0  The Torrents of Spring    Boulder      V1   \n",
      "910         953        1.0             Not So High    Boulder  V-easy   \n",
      "911         954        1.0                Ant Line    Boulder  V-easy   \n",
      "912         955        1.0          Wandering n00b    Boulder  V-easy   \n",
      "\n",
      "     Pitches  Length Boulder Face                    Boulder  \\\n",
      "0          1    20.0          NaN  White Rastafarian Boulder   \n",
      "1          1    25.0          NaN              Slash Boulder   \n",
      "2          1    16.0          NaN               JBMF Boulder   \n",
      "3          1    10.0          NaN             Pigpen Boulder   \n",
      "4          1    80.0          NaN              Gunsmoke Wall   \n",
      "..       ...     ...          ...                        ...   \n",
      "908        1    18.0          NaN       Lucky Boy Bouldering   \n",
      "909        1    12.0          NaN                The Pig Sty   \n",
      "910        1    18.0          NaN       Lucky Boy Bouldering   \n",
      "911        1    15.0          NaN       Lucky Boy Bouldering   \n",
      "912        1    18.0          NaN            Psycho Boulders   \n",
      "\n",
      "       Bouldering Sub-Area               Bouldering Area  \\\n",
      "0                      NaN            Outback Bouldering   \n",
      "1             Western Belt  Geology Tour Road Bouldering   \n",
      "2            JBMF Boulders     Roadside Rocks Bouldering   \n",
      "3    Manx Boulders Circuit    Manx/Asteroid Belt Circuit   \n",
      "4            Gunsmoke Area         Barker Dam Bouldering   \n",
      "..                     ...                           ...   \n",
      "908                    NaN      *Joshua Tree Bouldering*   \n",
      "909  Manx Boulders Circuit    Manx/Asteroid Belt Circuit   \n",
      "910                    NaN      *Joshua Tree Bouldering*   \n",
      "911                    NaN      *Joshua Tree Bouldering*   \n",
      "912                    NaN      Quail Springs Bouldering   \n",
      "\n",
      "                             Park Region                       Park  \\\n",
      "0                                    NaN  Joshua Tree National Park   \n",
      "1                                    NaN  Joshua Tree National Park   \n",
      "2                                    NaN  Joshua Tree National Park   \n",
      "3    Hidden Valley Campground Bouldering  Joshua Tree National Park   \n",
      "4                                    NaN  Joshua Tree National Park   \n",
      "..                                   ...                        ...   \n",
      "908                                  NaN  Joshua Tree National Park   \n",
      "909  Hidden Valley Campground Bouldering  Joshua Tree National Park   \n",
      "910                                  NaN  Joshua Tree National Park   \n",
      "911                                  NaN  Joshua Tree National Park   \n",
      "912                                  NaN  Joshua Tree National Park   \n",
      "\n",
      "          State  Area Latitude  Area Longitude  \n",
      "0    California       34.02073      -116.16212  \n",
      "1    California       33.95344      -116.08706  \n",
      "2    California       34.01520      -116.16631  \n",
      "3    California       34.01530      -116.15811  \n",
      "4    California       34.02858      -116.14508  \n",
      "..          ...            ...             ...  \n",
      "908  California       34.04030      -116.09420  \n",
      "909  California       34.02395      -116.17707  \n",
      "910  California       34.09437      -116.15417  \n",
      "911  California       34.09190      -116.15211  \n",
      "912  California       34.09437      -116.15417  \n",
      "\n",
      "[913 rows x 16 columns]\n"
     ]
    }
   ],
   "source": [
    "#load file.  Make sure your path is correct for your file. \n",
    "\n",
    "boulders=pd.read_csv(r\"C:\\Users\\cht35\\OneDrive\\Desktop\\formatted_J-Tree_data.csv\")\n",
    "print(boulders)"
   ]
  },
  {
   "cell_type": "code",
   "execution_count": 3,
   "id": "35748512-8794-4d6d-a04f-9594cc4213c6",
   "metadata": {},
   "outputs": [
    {
     "name": "stdout",
     "output_type": "stream",
     "text": [
      "<class 'pandas.core.frame.DataFrame'>\n",
      "RangeIndex: 913 entries, 0 to 912\n",
      "Data columns (total 16 columns):\n",
      " #   Column               Non-Null Count  Dtype  \n",
      "---  ------               --------------  -----  \n",
      " 0   Unnamed: 0           913 non-null    int64  \n",
      " 1   Avg Stars            913 non-null    float64\n",
      " 2   Route                913 non-null    object \n",
      " 3   Route Type           913 non-null    object \n",
      " 4   Rating               913 non-null    object \n",
      " 5   Pitches              913 non-null    int64  \n",
      " 6   Length               913 non-null    float64\n",
      " 7   Boulder Face         85 non-null     object \n",
      " 8   Boulder              910 non-null    object \n",
      " 9   Bouldering Sub-Area  647 non-null    object \n",
      " 10  Bouldering Area      913 non-null    object \n",
      " 11  Park Region          218 non-null    object \n",
      " 12  Park                 913 non-null    object \n",
      " 13  State                913 non-null    object \n",
      " 14  Area Latitude        913 non-null    float64\n",
      " 15  Area Longitude       913 non-null    float64\n",
      "dtypes: float64(4), int64(2), object(10)\n",
      "memory usage: 114.3+ KB\n"
     ]
    },
    {
     "data": {
      "text/html": [
       "<div>\n",
       "<style scoped>\n",
       "    .dataframe tbody tr th:only-of-type {\n",
       "        vertical-align: middle;\n",
       "    }\n",
       "\n",
       "    .dataframe tbody tr th {\n",
       "        vertical-align: top;\n",
       "    }\n",
       "\n",
       "    .dataframe thead th {\n",
       "        text-align: right;\n",
       "    }\n",
       "</style>\n",
       "<table border=\"1\" class=\"dataframe\">\n",
       "  <thead>\n",
       "    <tr style=\"text-align: right;\">\n",
       "      <th></th>\n",
       "      <th>Unnamed: 0</th>\n",
       "      <th>Avg Stars</th>\n",
       "      <th>Pitches</th>\n",
       "      <th>Length</th>\n",
       "      <th>Area Latitude</th>\n",
       "      <th>Area Longitude</th>\n",
       "    </tr>\n",
       "  </thead>\n",
       "  <tbody>\n",
       "    <tr>\n",
       "      <th>count</th>\n",
       "      <td>913.000000</td>\n",
       "      <td>913.000000</td>\n",
       "      <td>913.0</td>\n",
       "      <td>913.000000</td>\n",
       "      <td>913.000000</td>\n",
       "      <td>913.000000</td>\n",
       "    </tr>\n",
       "    <tr>\n",
       "      <th>mean</th>\n",
       "      <td>474.565170</td>\n",
       "      <td>2.059693</td>\n",
       "      <td>1.0</td>\n",
       "      <td>14.526835</td>\n",
       "      <td>34.018859</td>\n",
       "      <td>-116.160016</td>\n",
       "    </tr>\n",
       "    <tr>\n",
       "      <th>std</th>\n",
       "      <td>274.756137</td>\n",
       "      <td>0.699182</td>\n",
       "      <td>0.0</td>\n",
       "      <td>5.964036</td>\n",
       "      <td>0.032095</td>\n",
       "      <td>0.043655</td>\n",
       "    </tr>\n",
       "    <tr>\n",
       "      <th>min</th>\n",
       "      <td>0.000000</td>\n",
       "      <td>0.800000</td>\n",
       "      <td>1.0</td>\n",
       "      <td>5.000000</td>\n",
       "      <td>33.941820</td>\n",
       "      <td>-116.600000</td>\n",
       "    </tr>\n",
       "    <tr>\n",
       "      <th>25%</th>\n",
       "      <td>240.000000</td>\n",
       "      <td>1.500000</td>\n",
       "      <td>1.0</td>\n",
       "      <td>11.000000</td>\n",
       "      <td>34.000560</td>\n",
       "      <td>-116.166810</td>\n",
       "    </tr>\n",
       "    <tr>\n",
       "      <th>50%</th>\n",
       "      <td>472.000000</td>\n",
       "      <td>2.000000</td>\n",
       "      <td>1.0</td>\n",
       "      <td>14.000000</td>\n",
       "      <td>34.016780</td>\n",
       "      <td>-116.161030</td>\n",
       "    </tr>\n",
       "    <tr>\n",
       "      <th>75%</th>\n",
       "      <td>713.000000</td>\n",
       "      <td>2.500000</td>\n",
       "      <td>1.0</td>\n",
       "      <td>15.000000</td>\n",
       "      <td>34.026110</td>\n",
       "      <td>-116.152110</td>\n",
       "    </tr>\n",
       "    <tr>\n",
       "      <th>max</th>\n",
       "      <td>955.000000</td>\n",
       "      <td>4.000000</td>\n",
       "      <td>1.0</td>\n",
       "      <td>100.000000</td>\n",
       "      <td>34.119400</td>\n",
       "      <td>-116.042100</td>\n",
       "    </tr>\n",
       "  </tbody>\n",
       "</table>\n",
       "</div>"
      ],
      "text/plain": [
       "       Unnamed: 0   Avg Stars  Pitches      Length  Area Latitude  \\\n",
       "count  913.000000  913.000000    913.0  913.000000     913.000000   \n",
       "mean   474.565170    2.059693      1.0   14.526835      34.018859   \n",
       "std    274.756137    0.699182      0.0    5.964036       0.032095   \n",
       "min      0.000000    0.800000      1.0    5.000000      33.941820   \n",
       "25%    240.000000    1.500000      1.0   11.000000      34.000560   \n",
       "50%    472.000000    2.000000      1.0   14.000000      34.016780   \n",
       "75%    713.000000    2.500000      1.0   15.000000      34.026110   \n",
       "max    955.000000    4.000000      1.0  100.000000      34.119400   \n",
       "\n",
       "       Area Longitude  \n",
       "count      913.000000  \n",
       "mean      -116.160016  \n",
       "std          0.043655  \n",
       "min       -116.600000  \n",
       "25%       -116.166810  \n",
       "50%       -116.161030  \n",
       "75%       -116.152110  \n",
       "max       -116.042100  "
      ]
     },
     "execution_count": 3,
     "metadata": {},
     "output_type": "execute_result"
    }
   ],
   "source": [
    "boulders.info()\n",
    "boulders.describe()"
   ]
  },
  {
   "cell_type": "code",
   "execution_count": 10,
   "id": "e873bbed-60b4-4085-a9bc-dc93cbfe19ca",
   "metadata": {},
   "outputs": [
    {
     "data": {
      "text/html": [
       "<div>\n",
       "<style scoped>\n",
       "    .dataframe tbody tr th:only-of-type {\n",
       "        vertical-align: middle;\n",
       "    }\n",
       "\n",
       "    .dataframe tbody tr th {\n",
       "        vertical-align: top;\n",
       "    }\n",
       "\n",
       "    .dataframe thead th {\n",
       "        text-align: right;\n",
       "    }\n",
       "</style>\n",
       "<table border=\"1\" class=\"dataframe\">\n",
       "  <thead>\n",
       "    <tr style=\"text-align: right;\">\n",
       "      <th></th>\n",
       "      <th>Unnamed: 0</th>\n",
       "      <th>Avg Stars</th>\n",
       "      <th>Pitches</th>\n",
       "      <th>Length</th>\n",
       "      <th>Area Latitude</th>\n",
       "      <th>Area Longitude</th>\n",
       "    </tr>\n",
       "  </thead>\n",
       "  <tbody>\n",
       "    <tr>\n",
       "      <th>count</th>\n",
       "      <td>913.000000</td>\n",
       "      <td>913.000000</td>\n",
       "      <td>913.0</td>\n",
       "      <td>913.000000</td>\n",
       "      <td>913.000000</td>\n",
       "      <td>913.000000</td>\n",
       "    </tr>\n",
       "    <tr>\n",
       "      <th>mean</th>\n",
       "      <td>474.565170</td>\n",
       "      <td>2.059693</td>\n",
       "      <td>1.0</td>\n",
       "      <td>14.526835</td>\n",
       "      <td>34.018859</td>\n",
       "      <td>-116.160016</td>\n",
       "    </tr>\n",
       "    <tr>\n",
       "      <th>std</th>\n",
       "      <td>274.756137</td>\n",
       "      <td>0.699182</td>\n",
       "      <td>0.0</td>\n",
       "      <td>5.964036</td>\n",
       "      <td>0.032095</td>\n",
       "      <td>0.043655</td>\n",
       "    </tr>\n",
       "    <tr>\n",
       "      <th>min</th>\n",
       "      <td>0.000000</td>\n",
       "      <td>0.800000</td>\n",
       "      <td>1.0</td>\n",
       "      <td>5.000000</td>\n",
       "      <td>33.941820</td>\n",
       "      <td>-116.600000</td>\n",
       "    </tr>\n",
       "    <tr>\n",
       "      <th>25%</th>\n",
       "      <td>240.000000</td>\n",
       "      <td>1.500000</td>\n",
       "      <td>1.0</td>\n",
       "      <td>11.000000</td>\n",
       "      <td>34.000560</td>\n",
       "      <td>-116.166810</td>\n",
       "    </tr>\n",
       "    <tr>\n",
       "      <th>50%</th>\n",
       "      <td>472.000000</td>\n",
       "      <td>2.000000</td>\n",
       "      <td>1.0</td>\n",
       "      <td>14.000000</td>\n",
       "      <td>34.016780</td>\n",
       "      <td>-116.161030</td>\n",
       "    </tr>\n",
       "    <tr>\n",
       "      <th>75%</th>\n",
       "      <td>713.000000</td>\n",
       "      <td>2.500000</td>\n",
       "      <td>1.0</td>\n",
       "      <td>15.000000</td>\n",
       "      <td>34.026110</td>\n",
       "      <td>-116.152110</td>\n",
       "    </tr>\n",
       "    <tr>\n",
       "      <th>max</th>\n",
       "      <td>955.000000</td>\n",
       "      <td>4.000000</td>\n",
       "      <td>1.0</td>\n",
       "      <td>100.000000</td>\n",
       "      <td>34.119400</td>\n",
       "      <td>-116.042100</td>\n",
       "    </tr>\n",
       "  </tbody>\n",
       "</table>\n",
       "</div>"
      ],
      "text/plain": [
       "       Unnamed: 0   Avg Stars  Pitches      Length  Area Latitude  \\\n",
       "count  913.000000  913.000000    913.0  913.000000     913.000000   \n",
       "mean   474.565170    2.059693      1.0   14.526835      34.018859   \n",
       "std    274.756137    0.699182      0.0    5.964036       0.032095   \n",
       "min      0.000000    0.800000      1.0    5.000000      33.941820   \n",
       "25%    240.000000    1.500000      1.0   11.000000      34.000560   \n",
       "50%    472.000000    2.000000      1.0   14.000000      34.016780   \n",
       "75%    713.000000    2.500000      1.0   15.000000      34.026110   \n",
       "max    955.000000    4.000000      1.0  100.000000      34.119400   \n",
       "\n",
       "       Area Longitude  \n",
       "count      913.000000  \n",
       "mean      -116.160016  \n",
       "std          0.043655  \n",
       "min       -116.600000  \n",
       "25%       -116.166810  \n",
       "50%       -116.161030  \n",
       "75%       -116.152110  \n",
       "max       -116.042100  "
      ]
     },
     "execution_count": 10,
     "metadata": {},
     "output_type": "execute_result"
    }
   ],
   "source": [
    "boulders.describe()"
   ]
  },
  {
   "cell_type": "code",
   "execution_count": 4,
   "id": "d73a857a-dd2d-4428-8194-65f960abf491",
   "metadata": {},
   "outputs": [
    {
     "data": {
      "text/plain": [
       "array(['V2 R', 'V3 R', 'V5', 'V4', 'V3', 'V2', 'V0-', 'V0', '5.8+ V0',\n",
       "       'V-easy', 'V1', 'V0+', 'V6', 'V6-7', '5.10a V0 R', '5.12a V5',\n",
       "       'V3 PG13', 'V7', 'V1+', 'V6 R', 'V8', 'V3-4', 'V7-8', 'V5 PG13',\n",
       "       'V8-', 'V0 PG13', 'V12', 'V5 R', 'V8-9', 'V6 PG13', 'V5-', 'V1 R',\n",
       "       'V4 R', 'V10', 'V1-', 'V12+', 'V9', '5.9 V0-', 'V4 PG13', 'V2-3',\n",
       "       'V2+', 'V4-', 'V6+', 'V0 R', 'V4+', 'V0+ PG13', 'V8 PG13', 'V2-',\n",
       "       '5.9 V0', 'V-easy R', 'V8+', 'V3+', 'V5+', 'V3-', 'V1 PG13',\n",
       "       'V0+ R', 'V-easy PG13', 'V0- R', 'V1-2', 'V0-1', 'V1+ PG13',\n",
       "       '5.9 V-easy', 'V11', 'V9 R', 'V3- R'], dtype=object)"
      ]
     },
     "execution_count": 4,
     "metadata": {},
     "output_type": "execute_result"
    }
   ],
   "source": [
    "boulders['Rating'].unique()"
   ]
  },
  {
   "cell_type": "code",
   "execution_count": 5,
   "id": "73650dbf-1c25-40f0-88a6-ffdfe6a0f3ca",
   "metadata": {},
   "outputs": [
    {
     "data": {
      "text/plain": [
       "0        V2 R\n",
       "1        V3 R\n",
       "2          V5\n",
       "3          V4\n",
       "4          V3\n",
       "        ...  \n",
       "908    V-easy\n",
       "909        V1\n",
       "910    V-easy\n",
       "911    V-easy\n",
       "912    V-easy\n",
       "Name: Rating, Length: 913, dtype: object"
      ]
     },
     "execution_count": 5,
     "metadata": {},
     "output_type": "execute_result"
    }
   ],
   "source": [
    "boulders['Rating']"
   ]
  },
  {
   "cell_type": "code",
   "execution_count": 6,
   "id": "bbac4533-a3e6-4403-beba-0c7dcb4363c3",
   "metadata": {},
   "outputs": [
    {
     "name": "stdout",
     "output_type": "stream",
     "text": [
      "<class 'pandas.core.frame.DataFrame'>\n",
      "RangeIndex: 913 entries, 0 to 912\n",
      "Data columns (total 16 columns):\n",
      " #   Column               Non-Null Count  Dtype  \n",
      "---  ------               --------------  -----  \n",
      " 0   Unnamed: 0           913 non-null    int64  \n",
      " 1   Avg Stars            913 non-null    float64\n",
      " 2   Route                913 non-null    object \n",
      " 3   Route Type           913 non-null    object \n",
      " 4   Rating               913 non-null    object \n",
      " 5   Pitches              913 non-null    int64  \n",
      " 6   Length               913 non-null    float64\n",
      " 7   Boulder Face         85 non-null     object \n",
      " 8   Boulder              910 non-null    object \n",
      " 9   Bouldering Sub-Area  647 non-null    object \n",
      " 10  Bouldering Area      913 non-null    object \n",
      " 11  Park Region          218 non-null    object \n",
      " 12  Park                 913 non-null    object \n",
      " 13  State                913 non-null    object \n",
      " 14  Area Latitude        913 non-null    float64\n",
      " 15  Area Longitude       913 non-null    float64\n",
      "dtypes: float64(4), int64(2), object(10)\n",
      "memory usage: 114.3+ KB\n"
     ]
    }
   ],
   "source": [
    "cleaned=pd.DataFrame(boulders)\n",
    "cleaned.info()"
   ]
  },
  {
   "cell_type": "code",
   "execution_count": 7,
   "id": "aa247b8c-0f4d-4254-a40f-29182451d933",
   "metadata": {},
   "outputs": [
    {
     "data": {
      "text/plain": [
       "array(['V2 R', 'V3 R', 'V5', 'V4', 'V3', 'V2', 'V0-', 'V0', '5.8+ V0',\n",
       "       'V-easy', 'V1', 'V0+', 'V6', 'V6-7', '5.10a V0 R', '5.12a V5',\n",
       "       'V3 PG13', 'V7', 'V1+', 'V6 R', 'V8', 'V3-4', 'V7-8', 'V5 PG13',\n",
       "       'V8-', 'V0 PG13', 'V12', 'V5 R', 'V8-9', 'V6 PG13', 'V5-', 'V1 R',\n",
       "       'V4 R', 'V10', 'V1-', 'V12+', 'V9', '5.9 V0-', 'V4 PG13', 'V2-3',\n",
       "       'V2+', 'V4-', 'V6+', 'V0 R', 'V4+', 'V0+ PG13', 'V8 PG13', 'V2-',\n",
       "       '5.9 V0', 'V-easy R', 'V8+', 'V3+', 'V5+', 'V3-', 'V1 PG13',\n",
       "       'V0+ R', 'V-easy PG13', 'V0- R', 'V1-2', 'V0-1', 'V1+ PG13',\n",
       "       '5.9 V-easy', 'V11', 'V9 R', 'V3- R'], dtype=object)"
      ]
     },
     "execution_count": 7,
     "metadata": {},
     "output_type": "execute_result"
    }
   ],
   "source": [
    "cleaned['Rating'].unique()"
   ]
  },
  {
   "cell_type": "code",
   "execution_count": 8,
   "id": "e6ef920b-3fb7-4962-baa6-0ccd2b825341",
   "metadata": {},
   "outputs": [
    {
     "name": "stdout",
     "output_type": "stream",
     "text": [
      "Values that do not match the pattern:\n",
      "[]\n"
     ]
    }
   ],
   "source": [
    "# Replace \"V-easy\" with \"V0\"\n",
    "cleaned['Rating'] = cleaned['Rating'].replace(r'.*V-easy.*', 'V0', regex=True)\n",
    "\n",
    "# Define the regex pattern to extract \"V[number]\"\n",
    "pattern = r'(V[0-9]+)'\n",
    "\n",
    "# Extract the valid \"V[number]\" ratings\n",
    "cleaned['Extracted_Rating'] = cleaned['Rating'].str.extract(pattern)\n",
    "\n",
    "# Filter the rows where extraction resulted in NaN (invalid ratings)\n",
    "invalid_values = cleaned[cleaned['Extracted_Rating'].isna()]['Rating']\n",
    "\n",
    "# Display the invalid values\n",
    "print(\"Values that do not match the pattern:\")\n",
    "print(invalid_values.tolist())"
   ]
  },
  {
   "cell_type": "code",
   "execution_count": 9,
   "id": "504ec437-e149-4648-a907-3f80c798bb8f",
   "metadata": {},
   "outputs": [
    {
     "data": {
      "text/plain": [
       "0      V2\n",
       "1      V3\n",
       "2      V5\n",
       "3      V4\n",
       "4      V3\n",
       "       ..\n",
       "908    V0\n",
       "909    V1\n",
       "910    V0\n",
       "911    V0\n",
       "912    V0\n",
       "Name: Extracted_Rating, Length: 913, dtype: object"
      ]
     },
     "execution_count": 9,
     "metadata": {},
     "output_type": "execute_result"
    }
   ],
   "source": [
    "cleaned['Extracted_Rating']"
   ]
  },
  {
   "cell_type": "code",
   "execution_count": 10,
   "id": "282a6f4e-c0f7-44b7-949b-de05058dbf2c",
   "metadata": {},
   "outputs": [
    {
     "data": {
      "text/plain": [
       "array(['V2', 'V3', 'V5', 'V4', 'V0', 'V1', 'V6', 'V7', 'V8', 'V12', 'V10',\n",
       "       'V9', 'V11'], dtype=object)"
      ]
     },
     "execution_count": 10,
     "metadata": {},
     "output_type": "execute_result"
    }
   ],
   "source": [
    "cleaned['Extracted_Rating'].unique()"
   ]
  },
  {
   "cell_type": "code",
   "execution_count": 20,
   "id": "e0138f5d-19e1-4db7-9abe-32e9bb678143",
   "metadata": {},
   "outputs": [],
   "source": [
    "# drop the V from the ratings \n",
    "cleaned['Extracted_Rating'] = cleaned['Extracted_Rating'].str.extract(r'([0-9]+)')"
   ]
  },
  {
   "cell_type": "code",
   "execution_count": 21,
   "id": "45942f97-9a4a-4425-9f03-6dad2664564a",
   "metadata": {},
   "outputs": [],
   "source": [
    "# Convert the 'Extracted_Rating' column to integer\n",
    "cleaned['Extracted_Rating'] = cleaned['Extracted_Rating'].astype(int)"
   ]
  },
  {
   "cell_type": "code",
   "execution_count": 22,
   "id": "7c61cf3e-acf2-4544-8a4b-ec27dff21f15",
   "metadata": {},
   "outputs": [
    {
     "data": {
      "text/plain": [
       "0      2\n",
       "1      3\n",
       "2      5\n",
       "3      4\n",
       "4      3\n",
       "      ..\n",
       "908    0\n",
       "909    1\n",
       "910    0\n",
       "911    0\n",
       "912    0\n",
       "Name: Extracted_Rating, Length: 913, dtype: int64"
      ]
     },
     "execution_count": 22,
     "metadata": {},
     "output_type": "execute_result"
    }
   ],
   "source": [
    "cleaned['Extracted_Rating']"
   ]
  },
  {
   "cell_type": "code",
   "execution_count": 23,
   "id": "95d2156f-9290-44d4-ad88-6509ef358995",
   "metadata": {},
   "outputs": [
    {
     "data": {
      "text/html": [
       "<div>\n",
       "<style scoped>\n",
       "    .dataframe tbody tr th:only-of-type {\n",
       "        vertical-align: middle;\n",
       "    }\n",
       "\n",
       "    .dataframe tbody tr th {\n",
       "        vertical-align: top;\n",
       "    }\n",
       "\n",
       "    .dataframe thead th {\n",
       "        text-align: right;\n",
       "    }\n",
       "</style>\n",
       "<table border=\"1\" class=\"dataframe\">\n",
       "  <thead>\n",
       "    <tr style=\"text-align: right;\">\n",
       "      <th>col_0</th>\n",
       "      <th>count</th>\n",
       "    </tr>\n",
       "    <tr>\n",
       "      <th>Extracted_Rating</th>\n",
       "      <th></th>\n",
       "    </tr>\n",
       "  </thead>\n",
       "  <tbody>\n",
       "    <tr>\n",
       "      <th>0</th>\n",
       "      <td>370</td>\n",
       "    </tr>\n",
       "    <tr>\n",
       "      <th>1</th>\n",
       "      <td>128</td>\n",
       "    </tr>\n",
       "    <tr>\n",
       "      <th>2</th>\n",
       "      <td>128</td>\n",
       "    </tr>\n",
       "    <tr>\n",
       "      <th>3</th>\n",
       "      <td>94</td>\n",
       "    </tr>\n",
       "    <tr>\n",
       "      <th>4</th>\n",
       "      <td>87</td>\n",
       "    </tr>\n",
       "    <tr>\n",
       "      <th>5</th>\n",
       "      <td>43</td>\n",
       "    </tr>\n",
       "    <tr>\n",
       "      <th>6</th>\n",
       "      <td>32</td>\n",
       "    </tr>\n",
       "    <tr>\n",
       "      <th>7</th>\n",
       "      <td>9</td>\n",
       "    </tr>\n",
       "    <tr>\n",
       "      <th>8</th>\n",
       "      <td>9</td>\n",
       "    </tr>\n",
       "    <tr>\n",
       "      <th>9</th>\n",
       "      <td>6</td>\n",
       "    </tr>\n",
       "    <tr>\n",
       "      <th>10</th>\n",
       "      <td>4</td>\n",
       "    </tr>\n",
       "    <tr>\n",
       "      <th>11</th>\n",
       "      <td>1</td>\n",
       "    </tr>\n",
       "    <tr>\n",
       "      <th>12</th>\n",
       "      <td>2</td>\n",
       "    </tr>\n",
       "  </tbody>\n",
       "</table>\n",
       "</div>"
      ],
      "text/plain": [
       "col_0             count\n",
       "Extracted_Rating       \n",
       "0                   370\n",
       "1                   128\n",
       "2                   128\n",
       "3                    94\n",
       "4                    87\n",
       "5                    43\n",
       "6                    32\n",
       "7                     9\n",
       "8                     9\n",
       "9                     6\n",
       "10                    4\n",
       "11                    1\n",
       "12                    2"
      ]
     },
     "execution_count": 23,
     "metadata": {},
     "output_type": "execute_result"
    }
   ],
   "source": [
    "#create frequency table\n",
    "\n",
    "frequency=pd.crosstab(index=cleaned['Extracted_Rating'], columns='count')\n",
    "frequency"
   ]
  },
  {
   "cell_type": "code",
   "execution_count": 24,
   "id": "344251ba-0613-457a-a86d-df34dd073198",
   "metadata": {},
   "outputs": [
    {
     "data": {
      "image/png": "[encoded data removed]",
      "text/plain": [
       "<Figure size 640x480 with 1 Axes>"
      ]
     },
     "metadata": {},
     "output_type": "display_data"
    }
   ],
   "source": [
    "#bar chart of frequency (sort of a histogram)\n",
    "\n",
    "frequency.plot(kind='bar', legend=False)\n",
    "plt.title('Distribution of Bouldering Difficulties in Joshua Tree')\n",
    "plt.xlabel('Difficulty Rating (V Scale)')\n",
    "plt.ylabel('Amount of Routes')\n",
    "plt.xticks(rotation=0)\n",
    "plt.grid(axis='y')"
   ]
  },
  {
   "cell_type": "code",
   "execution_count": 26,
   "id": "c03c0af9-7d07-4b50-8cb7-a3019a99da87",
   "metadata": {},
   "outputs": [
    {
     "data": {
      "image/png": "[encoded data removed]",
      "text/plain": [
       "<Figure size 640x480 with 1 Axes>"
      ]
     },
     "metadata": {},
     "output_type": "display_data"
    }
   ],
   "source": [
    "plt.scatter(cleaned['Extracted_Rating'],cleaned['Avg Stars'], s=20)\n",
    "plt.title('Scatterplot of Stars for Each Difficulty')\n",
    "plt.xlabel('Difficulty Rating (V Scale)')\n",
    "plt.ylabel('Stars')\n",
    "plt.ylim(0, 4.5)\n",
    "\n",
    "plt.xticks(rotation=0)\n",
    "plt.grid(True)\n",
    "\n",
    "plt.show()\n",
    "\n"
   ]
  },
  {
   "cell_type": "code",
   "execution_count": 15,
   "id": "ea87fe02-52f6-4dd5-8727-f7413696e095",
   "metadata": {},
   "outputs": [],
   "source": [
    "median_avg_stars = cleaned.groupby('Extracted_Rating')['Avg Stars'].median().reset_index()"
   ]
  },
  {
   "cell_type": "code",
   "execution_count": 16,
   "id": "fa0b3de4-8924-48e0-8c4c-bd1e789ac3b4",
   "metadata": {},
   "outputs": [
    {
     "data": {
      "text/html": [
       "<div>\n",
       "<style scoped>\n",
       "    .dataframe tbody tr th:only-of-type {\n",
       "        vertical-align: middle;\n",
       "    }\n",
       "\n",
       "    .dataframe tbody tr th {\n",
       "        vertical-align: top;\n",
       "    }\n",
       "\n",
       "    .dataframe thead th {\n",
       "        text-align: right;\n",
       "    }\n",
       "</style>\n",
       "<table border=\"1\" class=\"dataframe\">\n",
       "  <thead>\n",
       "    <tr style=\"text-align: right;\">\n",
       "      <th></th>\n",
       "      <th>Extracted_Rating</th>\n",
       "      <th>Avg Stars</th>\n",
       "    </tr>\n",
       "  </thead>\n",
       "  <tbody>\n",
       "    <tr>\n",
       "      <th>0</th>\n",
       "      <td>V0</td>\n",
       "      <td>1.60</td>\n",
       "    </tr>\n",
       "    <tr>\n",
       "      <th>1</th>\n",
       "      <td>V1</td>\n",
       "      <td>2.00</td>\n",
       "    </tr>\n",
       "    <tr>\n",
       "      <th>2</th>\n",
       "      <td>V10</td>\n",
       "      <td>3.15</td>\n",
       "    </tr>\n",
       "    <tr>\n",
       "      <th>3</th>\n",
       "      <td>V11</td>\n",
       "      <td>2.00</td>\n",
       "    </tr>\n",
       "    <tr>\n",
       "      <th>4</th>\n",
       "      <td>V12</td>\n",
       "      <td>3.75</td>\n",
       "    </tr>\n",
       "    <tr>\n",
       "      <th>5</th>\n",
       "      <td>V2</td>\n",
       "      <td>2.00</td>\n",
       "    </tr>\n",
       "    <tr>\n",
       "      <th>6</th>\n",
       "      <td>V3</td>\n",
       "      <td>2.15</td>\n",
       "    </tr>\n",
       "    <tr>\n",
       "      <th>7</th>\n",
       "      <td>V4</td>\n",
       "      <td>2.00</td>\n",
       "    </tr>\n",
       "    <tr>\n",
       "      <th>8</th>\n",
       "      <td>V5</td>\n",
       "      <td>3.00</td>\n",
       "    </tr>\n",
       "    <tr>\n",
       "      <th>9</th>\n",
       "      <td>V6</td>\n",
       "      <td>3.00</td>\n",
       "    </tr>\n",
       "    <tr>\n",
       "      <th>10</th>\n",
       "      <td>V7</td>\n",
       "      <td>3.10</td>\n",
       "    </tr>\n",
       "    <tr>\n",
       "      <th>11</th>\n",
       "      <td>V8</td>\n",
       "      <td>3.10</td>\n",
       "    </tr>\n",
       "    <tr>\n",
       "      <th>12</th>\n",
       "      <td>V9</td>\n",
       "      <td>2.00</td>\n",
       "    </tr>\n",
       "  </tbody>\n",
       "</table>\n",
       "</div>"
      ],
      "text/plain": [
       "   Extracted_Rating  Avg Stars\n",
       "0                V0       1.60\n",
       "1                V1       2.00\n",
       "2               V10       3.15\n",
       "3               V11       2.00\n",
       "4               V12       3.75\n",
       "5                V2       2.00\n",
       "6                V3       2.15\n",
       "7                V4       2.00\n",
       "8                V5       3.00\n",
       "9                V6       3.00\n",
       "10               V7       3.10\n",
       "11               V8       3.10\n",
       "12               V9       2.00"
      ]
     },
     "execution_count": 16,
     "metadata": {},
     "output_type": "execute_result"
    }
   ],
   "source": [
    "median_avg_stars"
   ]
  },
  {
   "cell_type": "code",
   "execution_count": 136,
   "id": "32ece1c3-3fb6-40cd-8f94-5245c9d1303d",
   "metadata": {},
   "outputs": [
    {
     "data": {
      "image/png": "[encoded data removed]",
      "text/plain": [
       "<Figure size 640x480 with 1 Axes>"
      ]
     },
     "metadata": {},
     "output_type": "display_data"
    }
   ],
   "source": [
    "plt.scatter(median_avg_stars['Extracted_Rating'],median_avg_stars['Avg Stars'], s=20)\n",
    "plt.title('Scatterplot of Median Stars for Each Difficulty')\n",
    "plt.xlabel('Difficulty Rating (V Scale)')\n",
    "plt.ylabel('Median Stars')\n",
    "plt.grid(True)\n",
    "plt.ylim(0, 4)\n",
    "plt.show()"
   ]
  },
  {
   "cell_type": "code",
   "execution_count": null,
   "id": "51de7f51-2205-4503-89be-d3a20c5b9c2a",
   "metadata": {},
   "outputs": [],
   "source": []
  },
  {
   "cell_type": "code",
   "execution_count": null,
   "id": "1630aa57-43e6-4f3f-b41a-3c8935f6ec1f",
   "metadata": {},
   "outputs": [],
   "source": []
  }
 ],
 "metadata": {
  "kernelspec": {
   "display_name": "Python 3 (ipykernel)",
   "language": "python",
   "name": "python3"
  },
  "language_info": {
   "codemirror_mode": {
    "name": "ipython",
    "version": 3
   },
   "file_extension": ".py",
   "mimetype": "text/x-python",
   "name": "python",
   "nbconvert_exporter": "python",
   "pygments_lexer": "ipython3",
   "version": "3.12.6"
  }
 },
 "nbformat": 4,
 "nbformat_minor": 5
}
